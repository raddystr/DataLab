{
 "cells": [
  {
   "attachments": {},
   "cell_type": "markdown",
   "metadata": {},
   "source": [
    "### CONST"
   ]
  },
  {
   "cell_type": "code",
   "execution_count": 54,
   "metadata": {},
   "outputs": [],
   "source": [
    "LV_TO_EURO = 1.95583"
   ]
  },
  {
   "cell_type": "code",
   "execution_count": 55,
   "metadata": {},
   "outputs": [],
   "source": [
    "#INIT_TOTAL_PRICE = 215_000 * LV_TO_EURO"
   ]
  },
  {
   "cell_type": "code",
   "execution_count": 56,
   "metadata": {},
   "outputs": [],
   "source": [
    "#INIT_TOTAL_PRICE"
   ]
  },
  {
   "cell_type": "code",
   "execution_count": 57,
   "metadata": {},
   "outputs": [],
   "source": [
    "TOTAL_PRICE = 195_000 * LV_TO_EURO"
   ]
  },
  {
   "cell_type": "code",
   "execution_count": 58,
   "metadata": {},
   "outputs": [],
   "source": [
    "FEES = 20_000"
   ]
  },
  {
   "attachments": {},
   "cell_type": "markdown",
   "metadata": {},
   "source": [
    "### EXPENSE"
   ]
  },
  {
   "cell_type": "code",
   "execution_count": 59,
   "metadata": {},
   "outputs": [],
   "source": [
    "expense = TOTAL_PRICE + FEES "
   ]
  },
  {
   "attachments": {},
   "cell_type": "markdown",
   "metadata": {},
   "source": [
    "### INCOME"
   ]
  },
  {
   "cell_type": "code",
   "execution_count": 60,
   "metadata": {},
   "outputs": [],
   "source": [
    "loan = 420_000\n",
    "income =  loan\n",
    "\n"
   ]
  },
  {
   "cell_type": "code",
   "execution_count": 61,
   "metadata": {},
   "outputs": [],
   "source": [
    "def deal_calculator(income, expense):\n",
    "    if income > expense:\n",
    "        print(f'Plus: {income -  expense} lv.')\n",
    "        return income -  expense\n",
    "    else:\n",
    "        return f\"Minus: {expense - income}\""
   ]
  },
  {
   "cell_type": "code",
   "execution_count": 62,
   "metadata": {},
   "outputs": [
    {
     "name": "stdout",
     "output_type": "stream",
     "text": [
      "Plus: 18613.150000000023 lv.\n"
     ]
    }
   ],
   "source": [
    "remainder = deal_calculator(income, expense)"
   ]
  },
  {
   "cell_type": "code",
   "execution_count": 1,
   "metadata": {},
   "outputs": [
    {
     "ename": "NameError",
     "evalue": "name 'remainder' is not defined",
     "output_type": "error",
     "traceback": [
      "\u001b[0;31m---------------------------------------------------------------------------\u001b[0m",
      "\u001b[0;31mNameError\u001b[0m                                 Traceback (most recent call last)",
      "Cell \u001b[0;32mIn[1], line 12\u001b[0m\n\u001b[1;32m      9\u001b[0m dentist \u001b[39m=\u001b[39m \u001b[39m2000\u001b[39m\n\u001b[1;32m     10\u001b[0m more \u001b[39m=\u001b[39m [tv, scr, pod, matrak, divan, carpets, table, dentist]\n\u001b[0;32m---> 12\u001b[0m \u001b[39mprint\u001b[39m(remainder \u001b[39m-\u001b[39m \u001b[39msum\u001b[39m(more))\n\u001b[1;32m     14\u001b[0m more\n",
      "\u001b[0;31mNameError\u001b[0m: name 'remainder' is not defined"
     ]
    }
   ],
   "source": [
    "tv = 1000\n",
    "scr = 500 \n",
    "pod = 300\n",
    "matrak = 2000\n",
    "divan = 4000\n",
    "carpets = 2000\n",
    "table = 500\n",
    "drape = 1000\n",
    "\n",
    "#office = 1000\n",
    "dentist = 2000\n",
    "more = [tv, scr, pod, matrak, divan, carpets, table, drape]\n",
    "\n",
    "print(remainder - sum(more))\n",
    "\n",
    "more"
   ]
  },
  {
   "cell_type": "code",
   "execution_count": null,
   "metadata": {},
   "outputs": [],
   "source": []
  }
 ],
 "metadata": {
  "kernelspec": {
   "display_name": "Python 3",
   "language": "python",
   "name": "python3"
  },
  "language_info": {
   "codemirror_mode": {
    "name": "ipython",
    "version": 3
   },
   "file_extension": ".py",
   "mimetype": "text/x-python",
   "name": "python",
   "nbconvert_exporter": "python",
   "pygments_lexer": "ipython3",
   "version": "3.10.10"
  },
  "orig_nbformat": 4
 },
 "nbformat": 4,
 "nbformat_minor": 2
}
